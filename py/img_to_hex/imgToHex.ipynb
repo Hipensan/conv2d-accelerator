{
 "cells": [
  {
   "cell_type": "markdown",
   "metadata": {},
   "source": [
    "<h1> image to hex"
   ]
  },
  {
   "cell_type": "code",
   "execution_count": 1,
   "metadata": {},
   "outputs": [],
   "source": [
    "import numpy as np\n",
    "from PIL import Image\n",
    "\n",
    "# 1. 이미지 읽기 및 RGB 변환\n",
    "image = Image.open(\"dog.jpg\").convert(\"RGB\")\n",
    "image_data = np.array(image)  # RGB 픽셀 데이터 (H, W, 3)\n",
    "\n",
    "# 2. RGB 값을 0~1 사이로 정규화\n",
    "image_data = image_data / 255.0  # 0~1 범위로 변환\n",
    "\n",
    "# 3. 고정 소수점 변환 (sign(1), int(7), real(8))\n",
    "# 16비트 고정 소수점 형식으로 변환\n",
    "def float_to_fixed(value, int_bits, frac_bits):\n",
    "    scale = 2 ** frac_bits\n",
    "    fixed_value = np.round(value * scale).astype(np.int16)  # 16비트 정수\n",
    "    return np.clip(fixed_value, -(2**(int_bits+frac_bits-1)), 2**(int_bits+frac_bits-1)-1)\n",
    "\n",
    "# 각 채널(R, G, B)을 고정 소수점으로 변환\n",
    "fixed_image_data = np.zeros_like(image_data, dtype=np.int16)\n",
    "for channel in range(3):  # R, G, B 각각 처리\n",
    "    fixed_image_data[..., channel] = float_to_fixed(image_data[..., channel], 7, 8)\n",
    "\n",
    "# 4. 결과 저장 (옵션)\n",
    "np.save(\"dog_fixed16.npy\", fixed_image_data)  # 저장 (사용자가 불러올 수 있도록)\n"
   ]
  },
  {
   "cell_type": "markdown",
   "metadata": {},
   "source": [
    "<h1> restore image"
   ]
  },
  {
   "cell_type": "code",
   "execution_count": 2,
   "metadata": {},
   "outputs": [],
   "source": [
    "import numpy as np\n",
    "from PIL import Image\n",
    "\n",
    "# 1. 저장된 고정 소수점 데이터 불러오기\n",
    "fixed_image_data = np.load(\"dog_fixed16.npy\")  # (H, W, 3)\n",
    "\n",
    "# 2. 고정 소수점 데이터를 부동 소수점으로 복원\n",
    "def fixed_to_float(fixed_value, frac_bits):\n",
    "    scale = 2 ** frac_bits\n",
    "    return fixed_value / scale\n",
    "\n",
    "# R, G, B 채널 복원\n",
    "frac_bits = 8\n",
    "restored_image_data = np.zeros_like(fixed_image_data, dtype=np.float32)\n",
    "for channel in range(3):\n",
    "    restored_image_data[..., channel] = fixed_to_float(fixed_image_data[..., channel], frac_bits)\n",
    "\n",
    "# 3. 복원된 데이터를 [0, 255] 범위로 변환\n",
    "restored_image_data = np.clip(restored_image_data * 255, 0, 255).astype(np.uint8)\n",
    "\n",
    "# 4. 이미지를 저장 및 표시\n",
    "restored_image = Image.fromarray(restored_image_data, mode=\"RGB\")\n",
    "restored_image.save(\"restored_dog.jpg\")\n",
    "restored_image.show()  # 화면에 표시\n"
   ]
  },
  {
   "cell_type": "markdown",
   "metadata": {},
   "source": [
    "<h1> open numpy file"
   ]
  },
  {
   "cell_type": "code",
   "execution_count": 5,
   "metadata": {},
   "outputs": [
    {
     "name": "stdout",
     "output_type": "stream",
     "text": [
      "고정 소수점 값(16비트 hex)과 원래 RGB 값이 'dog_fixed16_with_hex_and_original.txt'로 저장되었습니다.\n"
     ]
    }
   ],
   "source": [
    "import numpy as np\n",
    "from PIL import Image\n",
    "\n",
    "# 1. numpy 파일 로드\n",
    "fixed_image_data = np.load(\"dog_fixed16.npy\")  # (H, W, 3)\n",
    "\n",
    "# 2. 원본 이미지 데이터 로드\n",
    "original_image = np.array(Image.open(\"dog.jpg\").convert(\"RGB\"))  # (H, W, 3)\n",
    "\n",
    "# 3. 16비트 고정 소수점 값을 hex로 변환\n",
    "def fixed_to_hex(value):\n",
    "    \"\"\"16비트 정수 값을 hex로 변환\"\"\"\n",
    "    return f\"0x{value & 0xFFFF:04X}\"  # 16비트로 변환 후 4자리 hex 표현\n",
    "\n",
    "# 4. 텍스트 파일로 저장\n",
    "h, w, c = fixed_image_data.shape\n",
    "with open(\"dog_fixed16_with_hex_and_original.txt\", \"w\") as f:\n",
    "    f.write(\"Hex(Fixed_Point R, G, B)    # Original(R, G, B)\\n\")  # 헤더 작성\n",
    "    \n",
    "    for i in range(h):\n",
    "        for j in range(w):\n",
    "            # 고정 소수점 값 (16비트)\n",
    "            fixed_r_hex = fixed_to_hex(fixed_image_data[i, j, 0])\n",
    "            fixed_g_hex = fixed_to_hex(fixed_image_data[i, j, 1])\n",
    "            fixed_b_hex = fixed_to_hex(fixed_image_data[i, j, 2])\n",
    "            \n",
    "            # 원본 RGB 값\n",
    "            orig_r, orig_g, orig_b = original_image[i, j]\n",
    "            \n",
    "            # 라인 작성\n",
    "            f.write(f\"({fixed_r_hex}, {fixed_g_hex}, {fixed_b_hex})    # ({orig_r}, {orig_g}, {orig_b})\\n\")\n",
    "\n",
    "print(\"고정 소수점 값(16비트 hex)과 원래 RGB 값이 'dog_fixed16_with_hex_and_original.txt'로 저장되었습니다.\")\n"
   ]
  }
 ],
 "metadata": {
  "kernelspec": {
   "display_name": "base",
   "language": "python",
   "name": "python3"
  },
  "language_info": {
   "codemirror_mode": {
    "name": "ipython",
    "version": 3
   },
   "file_extension": ".py",
   "mimetype": "text/x-python",
   "name": "python",
   "nbconvert_exporter": "python",
   "pygments_lexer": "ipython3",
   "version": "3.12.4"
  }
 },
 "nbformat": 4,
 "nbformat_minor": 2
}
